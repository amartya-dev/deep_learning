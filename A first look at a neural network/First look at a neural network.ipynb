{
 "cells": [
  {
   "cell_type": "code",
   "execution_count": 1,
   "id": "ab35743f-beb3-4a20-9639-782dfb4ace8a",
   "metadata": {},
   "outputs": [],
   "source": [
    "from tensorflow.keras.datasets import mnist\n",
    "\n",
    "(train_images, train_labels), (test_images, test_labels) = mnist.load_data()"
   ]
  },
  {
   "cell_type": "markdown",
   "id": "b42d7d83-bdf5-4443-b7f9-13f5192514ba",
   "metadata": {},
   "source": [
    "**THIS IPYNB IS JUST A BASIC EXAMPLE TO LOOK AT HOW IS STUFF DONE, DETAILS ON EACH ASPECT WILL FOLLOW**\n",
    "\n",
    "- The `train_images` and `train_labels` form the `training set` and so on\n",
    "- The images are encoded as numpy arrays, and the labels are an array of digits, ranging from 0 to 9\n",
    "\n",
    "Let us look at the training and test data"
   ]
  },
  {
   "cell_type": "markdown",
   "id": "bcdd095d-b54f-4388-9f36-02d77bea6ea5",
   "metadata": {},
   "source": [
    "# Exploring the data"
   ]
  },
  {
   "cell_type": "code",
   "execution_count": 2,
   "id": "6d029edf-b9a6-4bf5-b704-9942ccbd847d",
   "metadata": {},
   "outputs": [
    {
     "data": {
      "text/plain": [
       "(60000, 28, 28)"
      ]
     },
     "execution_count": 2,
     "metadata": {},
     "output_type": "execute_result"
    }
   ],
   "source": [
    "train_images.shape"
   ]
  },
  {
   "cell_type": "code",
   "execution_count": 3,
   "id": "8899a718-1ae3-4a93-b953-7c031910df6c",
   "metadata": {},
   "outputs": [
    {
     "data": {
      "text/plain": [
       "60000"
      ]
     },
     "execution_count": 3,
     "metadata": {},
     "output_type": "execute_result"
    }
   ],
   "source": [
    "len(train_labels)"
   ]
  },
  {
   "cell_type": "code",
   "execution_count": 4,
   "id": "db886691-bc18-468c-b991-210bb4f544f1",
   "metadata": {},
   "outputs": [
    {
     "data": {
      "text/plain": [
       "array([5, 0, 4, ..., 5, 6, 8], dtype=uint8)"
      ]
     },
     "execution_count": 4,
     "metadata": {},
     "output_type": "execute_result"
    }
   ],
   "source": [
    "train_labels"
   ]
  },
  {
   "cell_type": "code",
   "execution_count": 5,
   "id": "e2ea4c26-9600-4168-a0f1-5b8a37b01094",
   "metadata": {},
   "outputs": [
    {
     "data": {
      "text/plain": [
       "(10000, 28, 28)"
      ]
     },
     "execution_count": 5,
     "metadata": {},
     "output_type": "execute_result"
    }
   ],
   "source": [
    "test_images.shape"
   ]
  },
  {
   "cell_type": "code",
   "execution_count": 6,
   "id": "b3e4caaf-1f64-4984-beb3-72e0e6995ea5",
   "metadata": {},
   "outputs": [
    {
     "data": {
      "text/plain": [
       "10000"
      ]
     },
     "execution_count": 6,
     "metadata": {},
     "output_type": "execute_result"
    }
   ],
   "source": [
    "len(test_labels)"
   ]
  },
  {
   "cell_type": "code",
   "execution_count": 7,
   "id": "97d71e7c-0893-42b2-9b51-ab2723124d5d",
   "metadata": {},
   "outputs": [
    {
     "data": {
      "text/plain": [
       "array([7, 2, 1, ..., 4, 5, 6], dtype=uint8)"
      ]
     },
     "execution_count": 7,
     "metadata": {},
     "output_type": "execute_result"
    }
   ],
   "source": [
    "test_labels"
   ]
  },
  {
   "cell_type": "markdown",
   "id": "d952cb32-467f-494f-b7bc-b4f22ef01ec7",
   "metadata": {},
   "source": [
    "First we will feed the neural network the training data and it shall learn to associate the images and the labels and then we will test it on the test data"
   ]
  },
  {
   "cell_type": "markdown",
   "id": "cf52aafe-1024-4509-9c30-4d039f193caa",
   "metadata": {},
   "source": [
    "# The network architecture"
   ]
  },
  {
   "cell_type": "code",
   "execution_count": 8,
   "id": "3dbf8f0a-8e16-4df4-af5a-d0c0f76a3f18",
   "metadata": {},
   "outputs": [],
   "source": [
    "from tensorflow.keras import models\n",
    "from tensorflow.keras import layers\n",
    "\n",
    "network = models.Sequential()\n",
    "network.add(layers.Dense(512, activation='relu', input_shape=(28 * 28, )))\n",
    "network.add(layers.Dense(10, activation='softmax'))"
   ]
  },
  {
   "cell_type": "code",
   "execution_count": 9,
   "id": "6300d86b-2d24-4cae-b416-3580b56b1115",
   "metadata": {},
   "outputs": [],
   "source": [
    "# Add optimizaer and loss function to the net\n",
    "network.compile(\n",
    "    optimizer='rmsprop',\n",
    "    loss='categorical_crossentropy',\n",
    "    metrics=['accuracy']\n",
    ")"
   ]
  },
  {
   "cell_type": "markdown",
   "id": "51dd11a9-7c7c-4463-93df-8badae420600",
   "metadata": {},
   "source": [
    "# Transforming the data\n",
    "- The images need to be in a form that the neural net can accept, and will be scaled so that they are in the range from [0,1]\n",
    "- The training images previously were stored in an array of shape (60000, 28, 28) of type uint8, after scaling, we will transform into a float32 array of shape (60000, 28 \\* 28) with values between 0 and 1"
   ]
  },
  {
   "cell_type": "code",
   "execution_count": 10,
   "id": "f11f0b0d-0b2e-4b72-a27a-504966cc4a82",
   "metadata": {},
   "outputs": [],
   "source": [
    "train_images = train_images.reshape((60000, 28*28))\n",
    "train_images = train_images.astype('float32') / 255\n",
    "\n",
    "test_images = test_images.reshape((10000, 28*28))\n",
    "test_images = test_images.astype('float32') / 255"
   ]
  },
  {
   "cell_type": "markdown",
   "id": "1ffd66b0-5800-4e82-9ed8-26436dff787c",
   "metadata": {},
   "source": [
    "- We will need to categorically encode the labels too"
   ]
  },
  {
   "cell_type": "code",
   "execution_count": 11,
   "id": "2d57ab02-6945-4125-ab8f-beaca150abdc",
   "metadata": {},
   "outputs": [],
   "source": [
    "from tensorflow.keras.utils import to_categorical\n",
    "\n",
    "train_labels = to_categorical(train_labels)\n",
    "test_labels = to_categorical(test_labels)"
   ]
  },
  {
   "cell_type": "markdown",
   "id": "9739f732-c224-47fc-8b68-123bfaf8783a",
   "metadata": {},
   "source": [
    "# And the training starts"
   ]
  },
  {
   "cell_type": "markdown",
   "id": "869271c9-aeb7-4cd6-adb0-6a57355e6776",
   "metadata": {},
   "source": [
    "Training usually is done by fitting the network to the training data, this nomenclature of the function is common accross most libraries"
   ]
  },
  {
   "cell_type": "code",
   "execution_count": 12,
   "id": "dd7abca9-6092-4e8d-96c3-2fc11c095bdb",
   "metadata": {},
   "outputs": [
    {
     "name": "stdout",
     "output_type": "stream",
     "text": [
      "Epoch 1/5\n",
      "469/469 [==============================] - 1s 2ms/step - loss: 0.4331 - accuracy: 0.8755\n",
      "Epoch 2/5\n",
      "469/469 [==============================] - 1s 2ms/step - loss: 0.1085 - accuracy: 0.9675\n",
      "Epoch 3/5\n",
      "469/469 [==============================] - 1s 2ms/step - loss: 0.0711 - accuracy: 0.9792\n",
      "Epoch 4/5\n",
      "469/469 [==============================] - 1s 2ms/step - loss: 0.0484 - accuracy: 0.9865\n",
      "Epoch 5/5\n",
      "469/469 [==============================] - 1s 2ms/step - loss: 0.0349 - accuracy: 0.9897\n"
     ]
    },
    {
     "data": {
      "text/plain": [
       "<tensorflow.python.keras.callbacks.History at 0x7fbad6a1fe50>"
      ]
     },
     "execution_count": 12,
     "metadata": {},
     "output_type": "execute_result"
    }
   ],
   "source": [
    "network.fit(train_images, train_labels, epochs=5, batch_size=128)"
   ]
  },
  {
   "cell_type": "markdown",
   "id": "d11bc217-ce58-4938-9f8e-a7d97448f051",
   "metadata": {},
   "source": [
    "- The training accuracy, we easily reach around 99%\n",
    "\n",
    "Time to test our model "
   ]
  },
  {
   "cell_type": "code",
   "execution_count": 13,
   "id": "a4ffbcde-f7ca-4fc5-abc4-95ac632cfa95",
   "metadata": {},
   "outputs": [
    {
     "name": "stdout",
     "output_type": "stream",
     "text": [
      "313/313 [==============================] - 0s 879us/step - loss: 0.0679 - accuracy: 0.9809\n",
      "test accuracy:  0.98089998960495\n"
     ]
    }
   ],
   "source": [
    "test_loss, test_acc = network.evaluate(test_images, test_labels)\n",
    "print('test accuracy: ', test_acc)"
   ]
  },
  {
   "cell_type": "markdown",
   "id": "d3f8111b-edf5-43be-9643-08682db92781",
   "metadata": {},
   "source": [
    "- The test accuracy is slightly less, this can be attributed to overfitting\n",
    "- Thus, it was possible to train a neural net to classify handwritten digits in less than 20 lines of python code"
   ]
  }
 ],
 "metadata": {
  "kernelspec": {
   "display_name": "Python 3",
   "language": "python",
   "name": "python3"
  },
  "language_info": {
   "codemirror_mode": {
    "name": "ipython",
    "version": 3
   },
   "file_extension": ".py",
   "mimetype": "text/x-python",
   "name": "python",
   "nbconvert_exporter": "python",
   "pygments_lexer": "ipython3",
   "version": "3.7.10"
  }
 },
 "nbformat": 4,
 "nbformat_minor": 5
}
